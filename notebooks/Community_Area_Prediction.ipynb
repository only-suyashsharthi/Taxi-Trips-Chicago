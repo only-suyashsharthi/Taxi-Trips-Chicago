{
  "cells": [
    {
      "cell_type": "markdown",
      "source": [
        "Importing all the important libraries that will be used throughout this project."
      ],
      "metadata": {
        "id": "vYGme76xbhrp"
      }
    },
    {
      "cell_type": "code",
      "execution_count": 4,
      "metadata": {
        "id": "Z6NAIZnDxydL"
      },
      "outputs": [],
      "source": [
        "import sys\n",
        "import numpy as np\n",
        "import pandas as pd\n",
        "from sklearn.model_selection import train_test_split\n",
        "from sklearn.tree import DecisionTreeClassifier\n",
        "from sklearn.metrics import accuracy_score\n",
        "import pickle"
      ]
    },
    {
      "cell_type": "markdown",
      "source": [
        "Creating the Dataframe (df) which reads the CSV file from the mounted Google Drive using Pandas."
      ],
      "metadata": {
        "id": "d6-as5vabjnC"
      }
    },
    {
      "cell_type": "code",
      "execution_count": 2,
      "metadata": {
        "id": "ZVVDql1610Lb"
      },
      "outputs": [],
      "source": [
        "df=pd.read_csv(\"/content/drive/MyDrive/Datasets/Taxi Trips Chicago.csv\")"
      ]
    },
    {
      "cell_type": "markdown",
      "source": [
        "Analysing the final dataframe before feeding it to the model."
      ],
      "metadata": {
        "id": "gGdlb8V2czV0"
      }
    },
    {
      "cell_type": "code",
      "execution_count": 3,
      "metadata": {
        "colab": {
          "base_uri": "https://localhost:8080/"
        },
        "id": "8waG8JIP2IcQ",
        "outputId": "50d82802-0903-4fde-fce6-6ca1bf225992"
      },
      "outputs": [
        {
          "output_type": "stream",
          "name": "stdout",
          "text": [
            "<class 'pandas.core.frame.DataFrame'>\n",
            "RangeIndex: 1065573 entries, 0 to 1065572\n",
            "Data columns (total 24 columns):\n",
            " #   Column                      Non-Null Count    Dtype  \n",
            "---  ------                      --------------    -----  \n",
            " 0   Trip ID                     1065573 non-null  object \n",
            " 1   Taxi ID                     1065573 non-null  object \n",
            " 2   Trip Start Timestamp        1065573 non-null  object \n",
            " 3   Trip End Timestamp          1065573 non-null  object \n",
            " 4   Trip Miles                  1065573 non-null  float64\n",
            " 5   Pickup Community Area       1065573 non-null  int64  \n",
            " 6   Dropoff Community Area      1065573 non-null  int64  \n",
            " 7   Fare                        1065573 non-null  float64\n",
            " 8   Tips                        1065573 non-null  float64\n",
            " 9   Tolls                       1065573 non-null  int64  \n",
            " 10  Extras                      1065573 non-null  int64  \n",
            " 11  Trip Total                  1065573 non-null  float64\n",
            " 12  Payment Type                1065573 non-null  int64  \n",
            " 13  Company                     1065573 non-null  int64  \n",
            " 14  Pickup Centroid Latitude    1065573 non-null  float64\n",
            " 15  Pickup Centroid Longitude   1065573 non-null  float64\n",
            " 16  Pickup Centroid Location    1065573 non-null  object \n",
            " 17  Dropoff Centroid Latitude   1065573 non-null  float64\n",
            " 18  Dropoff Centroid Longitude  1065573 non-null  float64\n",
            " 19  Dropoff Centroid  Location  1065573 non-null  object \n",
            " 20  Trip Minutes                1065573 non-null  float64\n",
            " 21  Trip Start Hour             1065573 non-null  int64  \n",
            " 22  Trip Start Day              1065573 non-null  int64  \n",
            " 23  Trip Speed                  1065573 non-null  float64\n",
            "dtypes: float64(10), int64(8), object(6)\n",
            "memory usage: 195.1+ MB\n"
          ]
        }
      ],
      "source": [
        "df.info()"
      ]
    },
    {
      "cell_type": "markdown",
      "source": [
        "Building and evaluating the model that predicts the Pickup Community Area."
      ],
      "metadata": {
        "id": "tUwdtX8Vc6Je"
      }
    },
    {
      "cell_type": "code",
      "execution_count": 5,
      "metadata": {
        "colab": {
          "base_uri": "https://localhost:8080/"
        },
        "id": "GnhjyNRi3Zni",
        "outputId": "a2ef2269-4597-413c-97e8-d92cbc2f73ff"
      },
      "outputs": [
        {
          "output_type": "stream",
          "name": "stdout",
          "text": [
            "Accuracy: 1.00\n"
          ]
        }
      ],
      "source": [
        "# Step 1: Prepare the data\n",
        "features = ['Pickup Centroid Latitude', 'Pickup Centroid Longitude']\n",
        "target = 'Pickup Community Area'\n",
        "\n",
        "X = df[features]\n",
        "y = df[target].astype(int)  # Ensuring the target variable is of integer type\n",
        "\n",
        "# Split the data into training and testing sets\n",
        "X_train, X_test, y_train, y_test = train_test_split(X, y, test_size=0.2, random_state=42)\n",
        "\n",
        "# Step 2: Train the model\n",
        "puca = DecisionTreeClassifier(random_state=42)\n",
        "puca.fit(X_train, y_train)\n",
        "\n",
        "# Step 3: Evaluate the model\n",
        "y_pred = puca.predict(X_test)\n",
        "\n",
        "# Calculate accuracy\n",
        "accuracy = accuracy_score(y_test, y_pred)\n",
        "print(f'Accuracy: {accuracy:.2f}')"
      ]
    },
    {
      "cell_type": "markdown",
      "source": [
        "Building and evaluating the model that predicts the Dropoff Community Area."
      ],
      "metadata": {
        "id": "ZGkNP-hmdIKm"
      }
    },
    {
      "cell_type": "code",
      "execution_count": 6,
      "metadata": {
        "colab": {
          "base_uri": "https://localhost:8080/"
        },
        "id": "F4rcoNrO5i93",
        "outputId": "f478578f-96f2-4c60-b612-836cc9576395"
      },
      "outputs": [
        {
          "output_type": "stream",
          "name": "stdout",
          "text": [
            "Accuracy: 1.00\n"
          ]
        }
      ],
      "source": [
        "# Step 1: Prepare the data\n",
        "features = ['Dropoff Centroid Latitude', 'Dropoff Centroid Longitude']\n",
        "target = 'Dropoff Community Area'\n",
        "\n",
        "X = df[features]\n",
        "y = df[target].astype(int)  # Ensuring the target variable is of integer type\n",
        "\n",
        "# Split the data into training and testing sets\n",
        "X_train, X_test, y_train, y_test = train_test_split(X, y, test_size=0.2, random_state=42)\n",
        "\n",
        "# Step 2: Train the model\n",
        "doca = DecisionTreeClassifier(random_state=42)\n",
        "doca.fit(X_train, y_train)\n",
        "\n",
        "# Step 3: Evaluate the model\n",
        "y_pred = doca.predict(X_test)\n",
        "\n",
        "# Calculate accuracy\n",
        "accuracy = accuracy_score(y_test, y_pred)\n",
        "print(f'Accuracy: {accuracy:.2f}')"
      ]
    },
    {
      "cell_type": "markdown",
      "source": [
        "Pickling both the models."
      ],
      "metadata": {
        "id": "xr5Qbd6_dN_W"
      }
    },
    {
      "cell_type": "code",
      "execution_count": 7,
      "metadata": {
        "id": "kU10GkoZ9hI4"
      },
      "outputs": [],
      "source": [
        "pickle.dump(puca, open('puca.pkl', 'wb'))\n",
        "pickle.dump(doca, open('doca.pkl', 'wb'))"
      ]
    }
  ],
  "metadata": {
    "colab": {
      "provenance": []
    },
    "kernelspec": {
      "display_name": "Python 3",
      "name": "python3"
    },
    "language_info": {
      "name": "python"
    }
  },
  "nbformat": 4,
  "nbformat_minor": 0
}